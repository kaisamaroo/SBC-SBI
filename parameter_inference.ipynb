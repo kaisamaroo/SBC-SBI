{
 "cells": [
  {
   "cell_type": "markdown",
   "metadata": {},
   "source": [
    "# Parameter inference"
   ]
  },
  {
   "cell_type": "markdown",
   "metadata": {
    "raw_mimetype": "text/restructuredtext"
   },
   "source": [
    "This example illustrates parameter inference for a single model. (Check also the `model selection <model_selection.ipynb>`_ example if you're interested in comparing multiple models.)\n",
    "\n",
    "This notebook can be downloaded here: `Parameter Inference <parameter_inference.ipynb>`."
   ]
  },
  {
   "cell_type": "markdown",
   "metadata": {},
   "source": [
    "Let's start by importing the necessary packages:"
   ]
  },
  {
   "cell_type": "code",
   "execution_count": 121,
   "metadata": {},
   "outputs": [],
   "source": [
    "import pyabc\n",
    "import os\n",
    "import tempfile\n",
    "import matplotlib.pyplot as plt\n",
    "import numpy as np\n",
    "import scipy\n",
    "pyabc.settings.set_figure_params('pyabc')  # for beautified plots"
   ]
  },
  {
   "cell_type": "markdown",
   "metadata": {},
   "source": [
    "## Problem definition"
   ]
  },
  {
   "cell_type": "markdown",
   "metadata": {
    "raw_mimetype": "text/restructuredtext"
   },
   "source": [
    "Our model is about as simple as it gets. We assume a Gaussian model $\\mathcal{N}(\\mu, 0.5^2)$ with a single parameter $\\mu$ and fixed variance $0.5^2$."
   ]
  },
  {
   "cell_type": "markdown",
   "metadata": {
    "raw_mimetype": "text/restructuredtext",
    "tags": []
   },
   "source": [
    "Parameters (`Parameter <pyabc.parameters.Parameter>`) that are passed to the model are essentially dictionaries with keys the parameter ids and float values, generated in pyABC from the prior or a proposal distribution. In this case, there is only a single key, `mu`.\n",
    "\n",
    "The model returns data in form of a dictionary, with keys denoting different outputs. In this case, there is just a single key `data`. Values can be e.g. floats, integers, strings, numpy arrays, or pandas data frames, see the `data store API documentation <api_datastore>` for details.\n",
    "It might look like overly complicated to return a whole dictionary, but as soon as heterogeneous data are used, this starts to make a lot of sense."
   ]
  },
  {
   "cell_type": "code",
   "execution_count": 122,
   "metadata": {},
   "outputs": [],
   "source": [
    "def model(parameter):\n",
    "    return {\"data\": parameter[\"mu\"] + 0.5 * np.random.randn()}"
   ]
  },
  {
   "cell_type": "markdown",
   "metadata": {
    "raw_mimetype": "text/restructuredtext"
   },
   "source": [
    "We then define the prior for the mean. A `RV <pyabc.random_variables.RV>` defines the prior for a single parameter, while a `Distribution <pyabc.random_variables.Distribution>` defines the prior over a possibly higher-dimensional parameter space. The ``RV`` class is a shallow wrapper around `scipy.stats <https://docs.scipy.org/doc/scipy/reference/stats.html>`_ variables. In case of multiple independent priors, simply multiple RVs are passed to the distribution, while for non-independent or constrained priors, the ``Distribution`` class can be derived from."
   ]
  },
  {
   "cell_type": "code",
   "execution_count": 123,
   "metadata": {},
   "outputs": [],
   "source": [
    "prior = pyabc.Distribution(mu=pyabc.RV(\"norm\", 2, 1))"
   ]
  },
  {
   "cell_type": "markdown",
   "metadata": {
    "raw_mimetype": "text/restructuredtext"
   },
   "source": [
    "<div class=\"alert alert-warning\">\n",
    "Note: A common mistake is that the scipy uniform distribution takes arguments `lower_bound, width`, the second argument not being the upper bound. For example, `RV(\"uniform\", 1, 5)` is uniform over the interval $[1,6]$. Check the `scipy.stats` package for details of the definition.\n",
    "</div>"
   ]
  },
  {
   "cell_type": "markdown",
   "metadata": {},
   "source": [
    "We also need to specify a distance function, measuring closeness of simulated and observed data.\n",
    "We just take the absolute value of the difference here."
   ]
  },
  {
   "cell_type": "code",
   "execution_count": 96,
   "metadata": {},
   "outputs": [],
   "source": [
    "def distance(x, x0):\n",
    "    return abs(x[\"data\"] - x0[\"data\"])"
   ]
  },
  {
   "cell_type": "markdown",
   "metadata": {},
   "source": [
    "## ABC inference"
   ]
  },
  {
   "cell_type": "markdown",
   "metadata": {
    "raw_mimetype": "text/restructuredtext"
   },
   "source": [
    "Now we create the `ABCSMC <pyabc.inference.ABCSMC>` object, the main inference class. It defines an ABC-SMC algorithm, which sequentially generates particle populations of size `N`, sampling in generation  `t` from a perturbation of accepted particles in generation  `t-1` via importance samling, thus from a successively improved posterior approximation, thus allowing to gradually reduce an acceptance threshold $\\varepsilon$ on the permitted distance, while maintaining high acceptance rates.\n",
    "\n",
    "We pass the model, the prior and the distance to the ``ABCSMC`` class, and use a population size of `N=1000`."
   ]
  },
  {
   "cell_type": "code",
   "execution_count": 97,
   "metadata": {},
   "outputs": [
    {
     "name": "stderr",
     "output_type": "stream",
     "text": [
      "ABC.Sampler INFO: Parallelize sampling on 8 processes.\n"
     ]
    }
   ],
   "source": [
    "abc = pyabc.ABCSMC(model, prior, distance, population_size=1000)"
   ]
  },
  {
   "cell_type": "markdown",
   "metadata": {
    "raw_mimetype": "text/restructuredtext"
   },
   "source": [
    "To get going, we have to specify where to log the ABC-SMC runs. pyABC uses an SQL database, see the `data store documentation <api_datastore>`. We can later query the database with the help of the `History <pyabc.storage.History>` class. Usually you would now have some measured data to base your analysis on. Here, we just assume that the measured data is 2.5."
   ]
  },
  {
   "cell_type": "code",
   "execution_count": 124,
   "metadata": {},
   "outputs": [],
   "source": [
    "db_path = os.path.join(tempfile.gettempdir(), \"test.db\")\n"
   ]
  },
  {
   "cell_type": "code",
   "execution_count": null,
   "metadata": {},
   "outputs": [
    {
     "name": "stderr",
     "output_type": "stream",
     "text": [
      "ABC.History INFO: Start <ABCSMC id=9, start_time=2025-10-09 17:19:54>\n"
     ]
    },
    {
     "data": {
      "text/plain": [
       "<pyabc.storage.history.History at 0x14e8b7a90>"
      ]
     },
     "execution_count": 102,
     "metadata": {},
     "output_type": "execute_result"
    }
   ],
   "source": [
    "observation = 2.5\n",
    "abc.new(\"sqlite:///\" + db_path, {\"data\": observation})"
   ]
  },
  {
   "cell_type": "markdown",
   "metadata": {
    "raw_mimetype": "text/restructuredtext"
   },
   "source": [
    "Let's start the sampling now. We'll sample until the acceptance threshold epsilon drops below some value. We also specify a maximum number of SMC populations. So whatever is reached first, `minimum_epsilon` or `max_nr_populations`, will stop further sampling.\n",
    "\n",
    "The acceptance thresholds are automatically calibrated and updated. This and further components such as proposal kernels and parallelization strategy (on Linux, per default multi-processing) can be modified via arguments to the ``ABCSMC` class, see the API documentation or further examples.\n",
    "\n",
    "For the simple model we defined above, this should only take a couple of seconds:"
   ]
  },
  {
   "cell_type": "code",
   "execution_count": 99,
   "metadata": {},
   "outputs": [
    {
     "name": "stderr",
     "output_type": "stream",
     "text": [
      "ABC INFO: Calibration sample t = -1.\n",
      "ABC INFO: t: 0, eps: 8.77530617e-01.\n",
      "ABC INFO: Accepted: 1000 / 1910 = 5.2356e-01, ESS: 1.0000e+03.\n",
      "ABC INFO: t: 1, eps: 4.10839095e-01.\n",
      "ABC INFO: Accepted: 1000 / 2671 = 3.7439e-01, ESS: 8.9348e+02.\n",
      "ABC INFO: t: 2, eps: 2.00063710e-01.\n",
      "ABC INFO: Accepted: 1000 / 4486 = 2.2292e-01, ESS: 8.3750e+02.\n",
      "ABC INFO: t: 3, eps: 1.02087223e-01.\n",
      "ABC INFO: Accepted: 1000 / 8670 = 1.1534e-01, ESS: 8.2801e+02.\n",
      "ABC INFO: t: 4, eps: 4.76261580e-02.\n",
      "ABC INFO: Accepted: 1000 / 18078 = 5.5316e-02, ESS: 8.5942e+02.\n",
      "ABC INFO: t: 5, eps: 2.41446427e-02.\n",
      "ABC INFO: Accepted: 1000 / 32165 = 3.1090e-02, ESS: 6.5963e+02.\n",
      "ABC INFO: t: 6, eps: 1.24567007e-02.\n",
      "ABC INFO: Accepted: 1000 / 71306 = 1.4024e-02, ESS: 7.9936e+02.\n",
      "ABC INFO: t: 7, eps: 6.02616909e-03.\n",
      "ABC INFO: Accepted: 1000 / 144300 = 6.9300e-03, ESS: 7.2454e+02.\n",
      "ABC INFO: Stop: Minimum epsilon.\n",
      "ABC.History INFO: Done <ABCSMC id=8, duration=0:00:50.118373, end_time=2025-10-09 17:05:45>\n"
     ]
    }
   ],
   "source": [
    "history = abc.run(minimum_epsilon=0.01, max_nr_populations=10)"
   ]
  },
  {
   "cell_type": "markdown",
   "metadata": {
    "raw_mimetype": "text/restructuredtext"
   },
   "source": [
    "The `History` object returned by `ABCSMC.run` can be used to query the database.\n",
    "This object is also available via `abc.History(\"sqlite:///\" + db_path)`."
   ]
  },
  {
   "cell_type": "code",
   "execution_count": 153,
   "metadata": {},
   "outputs": [
    {
     "data": {
      "text/plain": [
       "array([2.39399875, 2.24237523, 1.87260435, 2.9775102 , 2.55105598,\n",
       "       2.83633323, 2.84257784, 2.16633723, 2.84280263, 2.30601325,\n",
       "       2.36435292, 2.96142818, 2.35820236, 2.61427315, 1.63109618,\n",
       "       2.03692467, 1.92264364, 2.19807318, 1.93843706, 1.7790191 ,\n",
       "       2.6195799 , 2.67655865, 2.30891402, 2.12387504, 2.23198896,\n",
       "       3.2748562 , 2.36614496, 2.68786506, 2.08555334, 2.61490384,\n",
       "       2.02319033, 2.37960151, 2.52937723, 2.77725386, 2.36345522,\n",
       "       2.85692566, 2.29927845, 2.0754203 , 2.24396583, 2.24002918,\n",
       "       3.2027389 , 2.75012992, 2.56263271, 1.84259105, 1.69712353,\n",
       "       2.34166237, 2.7053674 , 2.7413506 , 2.24829046, 3.14745067,\n",
       "       2.77393991, 2.06338092, 1.96570039, 2.32554034, 1.82544172,\n",
       "       2.70883145, 2.67090945, 2.44343784, 2.70341897, 2.26329118,\n",
       "       2.67914125, 2.63270013, 2.5386696 , 2.40196764, 2.6304043 ,\n",
       "       3.10793653, 2.28843471, 2.77099097, 2.17478957, 2.46296975,\n",
       "       2.64255377, 2.61537037, 2.24369074, 2.12191194, 1.83224322,\n",
       "       2.52646975, 2.40720783, 2.00250279, 2.73519604, 2.21462831,\n",
       "       2.53523804, 2.58567973, 2.77043284, 2.31384104, 2.11012924,\n",
       "       2.75747147, 2.93099188, 1.81632418, 2.51885548, 2.65059606,\n",
       "       2.6488982 , 2.65784206, 2.36200719, 3.00833809, 2.1736374 ,\n",
       "       2.49811799, 2.43134444, 2.74108159, 2.00836432, 2.49602245,\n",
       "       2.21364001, 1.67550971, 2.27683017, 2.68740356, 2.67382197,\n",
       "       2.73478298, 2.01029686, 2.53110008, 2.04883677, 2.29077083,\n",
       "       2.90339814, 2.84203817, 2.67820994, 2.21752426, 2.48128439,\n",
       "       2.1223807 , 2.75970383, 2.24410688, 2.54579702, 2.89063359,\n",
       "       2.36748028, 2.76645348, 1.99440783, 1.64465445, 2.4182543 ,\n",
       "       2.64933772, 2.45384143, 2.85852635, 2.0958208 , 2.67830498,\n",
       "       2.26752402, 2.65032611, 2.24834079, 2.78155911, 2.67329033,\n",
       "       2.24562157, 2.8926699 , 2.43582845, 1.93985279, 2.21293948,\n",
       "       3.22521014, 2.27889673, 1.97394837, 2.29612775, 2.29483635,\n",
       "       1.70455326, 2.33268913, 2.4808383 , 2.23225644, 2.38798162,\n",
       "       2.56838942, 1.83630026, 2.21497245, 2.5349626 , 1.91881057,\n",
       "       3.17310796, 2.57667684, 1.80397518, 3.08543915, 2.10420932,\n",
       "       2.7084519 , 1.96459119, 2.35321259, 2.87600204, 3.17590785,\n",
       "       2.75386622, 2.53750312, 2.61820874, 3.03200019, 2.28772681,\n",
       "       2.04303245, 2.27322245, 2.67175575, 2.35663153, 2.32826597,\n",
       "       3.08990948, 2.548383  , 2.48250371, 1.90431762, 3.10159333,\n",
       "       2.51999833, 2.47754828, 3.14842369, 2.12640284, 2.02690706,\n",
       "       2.99551012, 2.80130213, 2.31881807, 2.69983235, 2.24266972,\n",
       "       1.96366957, 2.86642363, 2.16800867, 2.66678075, 2.25303001,\n",
       "       2.33151118, 3.19779255, 2.6488864 , 2.6571137 , 2.56687074,\n",
       "       2.5380829 , 1.88872212, 1.90730561, 2.13189312, 2.06957747,\n",
       "       2.55336173, 2.66124495, 2.21105941, 2.63753473, 2.65605097,\n",
       "       2.03632795, 1.98663477, 2.14341047, 2.70281753, 2.02592244,\n",
       "       2.29336874, 2.16171378, 2.19315507, 2.49797502, 2.6909771 ,\n",
       "       2.66614579, 2.04683064, 2.28908044, 2.20018623, 2.78462136,\n",
       "       2.32546799, 2.92573878, 2.66863773, 2.88076602, 2.5827717 ,\n",
       "       3.08697187, 1.80768197, 2.11433008, 2.6046715 , 2.17251902,\n",
       "       2.26953059, 2.43313052, 2.81060129, 1.29963015, 2.44296833,\n",
       "       2.6394972 , 2.03409112, 2.42693792, 2.15030806, 2.29269873,\n",
       "       2.78541528, 2.86860289, 2.37092749, 2.75796605, 1.99405008,\n",
       "       2.30424117, 3.10736234, 2.80433216, 2.3511804 , 2.54664833,\n",
       "       2.0768957 , 2.01946478, 2.54203147, 2.44143657, 1.97370056,\n",
       "       2.19850003, 2.16671486, 2.90132434, 2.24593898, 2.32557682,\n",
       "       2.65435936, 2.40803687, 1.97641869, 2.81385057, 2.48953427,\n",
       "       1.76236483, 2.73238345, 2.82301725, 2.36102447, 2.27571717,\n",
       "       2.3797906 , 1.88583738, 2.54134323, 2.08474942, 2.21477357,\n",
       "       2.58862255, 3.18571925, 2.01154681, 2.69114827, 2.29007911,\n",
       "       2.78785631, 2.25083828, 3.30758532, 2.60813404, 2.73673769,\n",
       "       2.36101855, 2.39414168, 2.27841983, 2.47289172, 2.62745108,\n",
       "       2.62448995, 1.720523  , 1.9322062 , 2.42007802, 2.12024699,\n",
       "       2.75412913, 2.34347423, 2.81537931, 2.27777119, 2.31594164,\n",
       "       2.76443881, 2.30084812, 2.11697453, 2.58401437, 2.60764182,\n",
       "       2.3187857 , 2.69219025, 2.55728006, 2.56497505, 2.57569794,\n",
       "       2.09875734, 1.75609829, 1.80652928, 2.58139608, 2.88470098,\n",
       "       2.65240433, 2.50255213, 2.97916631, 2.72070645, 2.61265822,\n",
       "       1.99839323, 2.52753147, 2.11536139, 2.7797014 , 2.61216643,\n",
       "       1.80332065, 2.68211741, 2.05744694, 2.56445585, 2.3772727 ,\n",
       "       1.92773179, 2.1032167 , 2.36471276, 1.96107131, 2.0583171 ,\n",
       "       2.85316846, 2.21083323, 2.39111069, 2.35600723, 3.27565929,\n",
       "       2.13834167, 2.82042551, 2.46720952, 3.02694147, 2.32488272,\n",
       "       2.98700549, 2.54665606, 2.62601633, 2.46895159, 2.99452552,\n",
       "       3.59300386, 1.76815952, 2.36435009, 2.66119073, 1.98872407,\n",
       "       2.89216506, 2.46803698, 2.33722638, 2.21816251, 2.86138044,\n",
       "       2.68445602, 2.68746913, 2.14686305, 2.61883109, 2.94223764,\n",
       "       2.67741198, 2.65028657, 2.33284813, 2.72055166, 2.1737539 ,\n",
       "       2.23039061, 2.17739334, 2.35167538, 2.57888389, 2.63929455,\n",
       "       2.29553139, 2.61221248, 2.69167711, 2.15434399, 2.64720305,\n",
       "       2.28981725, 2.649537  , 2.65333931, 1.82758795, 2.55496394,\n",
       "       2.01129176, 2.77290196, 2.02316009, 2.79616889, 2.74204508,\n",
       "       2.19333858, 2.9728263 , 2.41564963, 2.38551124, 2.9739164 ,\n",
       "       2.46743073, 2.41649003, 3.13312712, 2.08673831, 3.22437986,\n",
       "       2.63781824, 2.29295066, 2.5750944 , 2.37570281, 2.71116369,\n",
       "       2.40438618, 2.32522542, 2.08635615, 2.22802785, 2.2926978 ,\n",
       "       2.19875864, 1.78772997, 2.79625839, 2.07717974, 2.44634748,\n",
       "       2.49315471, 2.41495626, 1.8230447 , 1.9174804 , 2.64150547,\n",
       "       2.81524057, 2.92540853, 2.21589162, 3.22249173, 2.50816126,\n",
       "       2.87320063, 2.8474969 , 2.42655197, 2.62197479, 2.1914574 ,\n",
       "       2.58651697, 2.21789921, 2.43047292, 2.29404011, 2.34943613,\n",
       "       3.14780216, 2.11117552, 2.44544799, 3.00747977, 2.3154111 ,\n",
       "       2.95695429, 2.04346718, 2.27199645, 2.4254687 , 2.80989036,\n",
       "       2.24170685, 2.439813  , 2.66328515, 2.70284032, 2.23597528,\n",
       "       2.27381447, 2.26395055, 2.46984235, 2.51465731, 2.66573727,\n",
       "       2.45753527, 2.17229936, 2.10040339, 2.59075687, 2.75796392,\n",
       "       2.02855316, 2.45618033, 2.82108772, 2.54098721, 2.051095  ,\n",
       "       2.63545489, 2.10465805, 1.8074231 , 3.03998427, 2.90376161,\n",
       "       2.79062882, 2.54376309, 1.99895564, 3.19504748, 2.15396808,\n",
       "       2.27763178, 3.02391587, 2.52975918, 2.19307633, 2.30714522,\n",
       "       2.6925778 , 3.03881084, 2.84968861, 1.44870575, 2.71687041,\n",
       "       1.9848681 , 1.62030785, 2.49579087, 2.76838767, 2.78483252,\n",
       "       2.73485487, 2.72316581, 2.3345792 , 1.80283028, 2.14923131,\n",
       "       2.22583733, 2.80198323, 2.90836429, 3.04293934, 2.70931354,\n",
       "       2.32700028, 2.10600675, 2.58253508, 2.70400364, 2.49075825,\n",
       "       2.10564915, 2.4625615 , 2.778514  , 2.25401886, 2.97193492,\n",
       "       2.25284453, 2.83913756, 2.54410676, 2.74771025, 2.57451258,\n",
       "       2.66759467, 2.4826764 , 1.55429864, 2.40347303, 2.56649428,\n",
       "       2.33261315, 2.12553507, 2.2409492 , 2.16516789, 2.30222412,\n",
       "       2.72040279, 2.88637862, 2.27778255, 2.38281781, 2.06074268,\n",
       "       2.58988266, 2.21790903, 2.8236038 , 2.1495734 , 2.14864841,\n",
       "       2.7826062 , 2.61357187, 2.12735873, 2.76309173, 2.51647866,\n",
       "       2.39677112, 2.51574798, 2.2096563 , 1.8983859 , 2.7401596 ,\n",
       "       2.51004521, 2.1490864 , 2.38931353, 2.92450916, 2.55119008,\n",
       "       2.50290778, 2.76250235, 1.95707311, 2.31088119, 2.31455694,\n",
       "       2.09225768, 1.99152886, 2.76783364, 1.87013772, 2.53933456,\n",
       "       2.55449481, 2.37465755, 2.07930613, 2.58812021, 2.24598856,\n",
       "       2.54556428, 2.15804359, 2.72554257, 2.68823551, 2.16219657,\n",
       "       2.34679229, 2.7333886 , 2.01549477, 2.16266951, 2.20051261,\n",
       "       2.2407186 , 2.11407248, 2.37675723, 2.11688222, 2.69866522,\n",
       "       2.7674517 , 3.14199608, 2.38013026, 2.22395233, 3.01151512,\n",
       "       2.5290297 , 2.55236127, 2.81379047, 2.5099308 , 2.72615856,\n",
       "       1.50617904, 1.96917453, 2.44731422, 2.43481818, 2.41354651,\n",
       "       2.62352023, 2.37064671, 2.04312202, 2.32306517, 2.75137754,\n",
       "       2.80183527, 2.00050477, 2.74261068, 2.09874849, 2.24558809,\n",
       "       2.08974344, 2.50535359, 2.19259839, 1.67714514, 2.21307007,\n",
       "       2.76097345, 2.2050981 , 2.29496932, 2.35540243, 2.06661333,\n",
       "       2.39012945, 2.5929854 , 1.93119285, 2.89019009, 2.440026  ,\n",
       "       2.19150975, 2.14031555, 2.60287193, 2.77951827, 2.67503059,\n",
       "       2.52400874, 1.86971361, 1.99147284, 2.45705438, 1.88601167,\n",
       "       1.62703561, 2.5101136 , 2.56953063, 1.36192074, 2.91669902,\n",
       "       2.33364077, 2.00839625, 2.33296993, 2.33651496, 2.39451676,\n",
       "       2.65002124, 2.51336831, 2.94817491, 1.92570498, 2.40456967,\n",
       "       2.06639932, 2.15097097, 1.63309093, 2.42845503, 2.35434362,\n",
       "       2.80278117, 2.29827843, 2.53523222, 2.77392822, 2.51267308,\n",
       "       2.51462325, 2.63821876, 2.63209807, 2.52113583, 1.97319697,\n",
       "       2.40648281, 3.10127816, 2.09114356, 2.23167699, 2.60718522,\n",
       "       2.11071437, 2.10295421, 2.51953392, 2.34601095, 2.80161267,\n",
       "       2.267648  , 2.43327077, 3.20031435, 1.98404876, 2.46734849,\n",
       "       2.21471259, 1.56403565, 2.52253293, 2.3316154 , 2.31800054,\n",
       "       1.95718362, 2.54056633, 2.58449415, 1.91438247, 2.40871573,\n",
       "       2.38207413, 2.40638989, 2.24875805, 2.74116289, 2.29354417,\n",
       "       2.52724642, 2.74256114, 2.35945495, 2.57832987, 2.72540919,\n",
       "       2.9701923 , 3.03149648, 1.9443215 , 2.52601303, 2.75830417,\n",
       "       2.00779904, 1.78273107, 1.88728586, 2.06258784, 1.81413546,\n",
       "       1.96960821, 2.0301865 , 2.46367047, 2.20982968, 2.06210354,\n",
       "       1.87126276, 2.39169623, 2.21608744, 2.65016786, 2.03361568,\n",
       "       2.92120471, 2.16014141, 2.35579944, 2.36264752, 2.15152503,\n",
       "       2.81938308, 2.72446467, 2.9117113 , 2.41326826, 2.32660682,\n",
       "       2.13330518, 2.67974263, 1.94341216, 2.64770977, 2.65074488,\n",
       "       2.75385919, 2.25466927, 2.48602935, 2.29539622, 2.48593483,\n",
       "       2.49648033, 2.43645368, 1.53525375, 2.86232996, 2.84867244,\n",
       "       2.34222936, 1.80820519, 2.07005612, 1.53025978, 3.0154462 ,\n",
       "       2.03885267, 2.14420908, 2.48227478, 2.80665408, 2.8691651 ,\n",
       "       2.2862342 , 2.42069761, 2.38998947, 2.04808354, 1.85813674,\n",
       "       2.39389414, 2.83335738, 2.33826458, 2.32139013, 2.84065228,\n",
       "       2.5718619 , 2.5121164 , 2.571582  , 2.45714737, 2.9102832 ,\n",
       "       2.21631625, 2.26282164, 2.18144071, 2.41585733, 2.38784309,\n",
       "       2.74145153, 2.69602267, 3.12984482, 2.34262515, 2.27832195,\n",
       "       2.8532428 , 2.26739669, 2.46016682, 3.0532686 , 2.52619922,\n",
       "       2.3990717 , 2.00102751, 3.04009615, 2.50639061, 2.65006036,\n",
       "       3.13546412, 2.09352395, 2.18188242, 2.12107159, 2.67627632,\n",
       "       2.48720784, 2.25217282, 2.56738821, 2.72829048, 2.71265911,\n",
       "       2.18083968, 2.25070593, 1.9992123 , 2.44264681, 2.97560044,\n",
       "       2.09809133, 2.38306514, 2.63389359, 2.94055567, 3.00275623,\n",
       "       2.55113229, 2.48284047, 2.26291256, 2.54268234, 1.64434475,\n",
       "       2.68338397, 2.31598846, 2.56523678, 2.47424137, 2.41866962,\n",
       "       2.40818239, 2.51381087, 2.53173457, 2.3430653 , 1.91229333,\n",
       "       2.72708627, 2.12819848, 2.4687221 , 2.02777329, 2.16654784,\n",
       "       2.35771019, 2.22570905, 2.31166851, 2.41130795, 2.62726929,\n",
       "       2.63564677, 2.46692701, 2.26513704, 2.00062745, 2.99440278,\n",
       "       2.05985105, 2.60470206, 2.21534841, 2.66418287, 2.5290465 ,\n",
       "       2.62606346, 2.50432   , 2.4877845 , 2.59850402, 1.77254043,\n",
       "       2.15362616, 2.15662338, 2.53435047, 2.0964928 , 2.7450952 ,\n",
       "       2.18322179, 2.30970181, 2.57644843, 1.69582674, 2.63937001,\n",
       "       2.15578703, 2.26559059, 2.55735122, 2.57205408, 3.15695425,\n",
       "       2.11556028, 2.38589437, 2.44307328, 2.41478184, 2.95968405,\n",
       "       2.382543  , 2.41099728, 3.46897695, 2.47969557, 2.92580272,\n",
       "       2.56572844, 1.80922438, 2.38869153, 2.41707122, 2.73565034,\n",
       "       1.94932865, 2.51973529, 2.78839013, 2.28095762, 2.290155  ,\n",
       "       2.58744324, 2.31918982, 2.14990152, 2.51186618, 2.62436179,\n",
       "       2.36083521, 2.49370422, 2.45024891, 2.96468292, 2.66535775,\n",
       "       2.50019746, 2.56712061, 2.76849276, 2.56355783, 1.60043245,\n",
       "       2.4737935 , 1.49975005, 1.90053323, 2.84604625, 2.3649896 ,\n",
       "       2.47504445, 2.41644941, 2.33510904, 2.70582268, 2.36904215,\n",
       "       2.26036268, 2.13931811, 2.64784886, 2.27009644, 2.29522072,\n",
       "       2.73493501, 2.28051984, 2.39498728, 2.24718167, 2.69779782,\n",
       "       2.26512028, 2.79450759, 2.86484951, 1.52872402, 2.65391484,\n",
       "       2.29570939, 2.48258264, 2.48759366, 2.81751743, 2.21275203,\n",
       "       3.28082666, 2.49434488, 2.51221052, 2.94909462, 2.74129723,\n",
       "       3.02467751, 2.38682671, 1.8944636 , 2.40005391, 2.53874968,\n",
       "       1.96293112, 2.27373523, 2.42003115, 3.00217726, 2.38791245,\n",
       "       2.30929551, 2.15330057, 2.11854646, 1.87277696, 1.81363161,\n",
       "       1.70898348, 2.41574723, 3.07326299, 2.36709617, 2.18772934,\n",
       "       2.42905951, 2.60009244, 2.26022383, 2.40654204, 2.71665666,\n",
       "       1.79541806, 2.55801626, 2.99823384, 2.08355254, 2.14013538,\n",
       "       2.50461417, 2.05491522, 2.70793065, 2.9700156 , 2.31499922,\n",
       "       2.76488992, 3.05450141, 2.17765454, 2.61926083, 2.18803932,\n",
       "       2.4449999 , 2.92283413, 2.49107381, 2.35103248, 1.61174508,\n",
       "       2.04381813, 2.17895138, 2.94086314, 2.63022075, 1.66125874,\n",
       "       2.26390572, 2.33047432, 2.38639795, 2.40244295, 2.4631525 ,\n",
       "       2.06920243, 2.12786685, 2.79310766, 3.13031804, 2.89743093,\n",
       "       2.30975167, 2.65571041, 2.06972462, 2.68593141, 2.53496838])"
      ]
     },
     "execution_count": 153,
     "metadata": {},
     "output_type": "execute_result"
    }
   ],
   "source": [
    "history.get_distribution()[0].to_numpy().flatten()"
   ]
  },
  {
   "cell_type": "markdown",
   "metadata": {},
   "source": [
    "## Visualization and analysis of results"
   ]
  },
  {
   "cell_type": "markdown",
   "metadata": {
    "raw_mimetype": "text/restructuredtext"
   },
   "source": [
    "Now, we can visualize the obtained Bayesian posterior approximation.\n",
    "The vertical line indicates the location of the observation, while the curves give the ABC posterior at different generations (usually, only the last one is of interest).\n",
    "Given our model, we expect the mean to be close to the observed data, with some uncertainty. For more-dimensional parameter vectors, pyABC also offers `plot_kde_2d` and `plot_kde_matrix` plots."
   ]
  },
  {
   "cell_type": "code",
   "execution_count": 103,
   "metadata": {},
   "outputs": [
    {
     "data": {
      "image/png": "[encoded data removed]",
      "text/plain": [
       "<Figure size 640x480 with 1 Axes>"
      ]
     },
     "metadata": {},
     "output_type": "display_data"
    }
   ],
   "source": [
    "fig, ax = plt.subplots()\n",
    "# Plot true analytical posterior\n",
    "ax.plot(np.linspace(0,5,200), scipy.stats.norm.pdf(np.linspace(0,5,200), (4*observation+2)/5, np.sqrt(1/5)), label=\"True Posterior\")\n",
    "# Plot prior\n",
    "ax.plot(np.linspace(0,5,200), scipy.stats.norm.pdf(np.linspace(0,5,200), 2, 1), label=\"Prior\")\n",
    "for t in np.arange(0, history.max_t + 1, 5, dtype=int):\n",
    "    df, w = history.get_distribution(m=0, t=t)\n",
    "    # Plots the Kernel Density Estimate (KDE) using the SMC-ABC samples and their weights. Mathematically, we must \n",
    "    # weight the samples using their SMC importance weights when calculating density estimates and expectations \n",
    "    # since it is the WEIGHTED versions that converge to the true posterior in the limit. \n",
    "    pyabc.visualization.plot_kde_1d(\n",
    "        df,\n",
    "        w,\n",
    "        xmin=0,\n",
    "        xmax=5,\n",
    "        x=\"mu\",\n",
    "        xname=r\"$\\mu$\",\n",
    "        ax=ax,\n",
    "        label=f\"PDF t={t}\",\n",
    "    )\n",
    "ax.axvline(observation, color=\"k\", linestyle=\"dashed\", label=\"Observation\")\n",
    "ax.legend();"
   ]
  },
  {
   "cell_type": "markdown",
   "metadata": {
    "raw_mimetype": "text/restructuredtext",
    "tags": []
   },
   "source": [
    "pyABC also offers various other visualization routines in order to analyze the parameter estimation run, see the `visualization API documentation <_api_documentation>` for a full list.\n",
    "In general, it is necessary after an ABC run to analyze the posterior estimation for e.g. convergence and stability, by assessing posterior approximations at different generations, as well as effective population sizes, possibly across multiple runs."
   ]
  },
  {
   "cell_type": "code",
   "execution_count": 101,
   "metadata": {},
   "outputs": [
    {
     "data": {
      "text/plain": [
       "<Axes: title={'center': 'Effective sample size'}, xlabel='Population index', ylabel='ESS'>"
      ]
     },
     "execution_count": 101,
     "metadata": {},
     "output_type": "execute_result"
    },
    {
     "data": {
      "image/png": "[encoded data removed]",
      "text/plain": [
       "<Figure size 1200x400 with 3 Axes>"
      ]
     },
     "metadata": {},
     "output_type": "display_data"
    }
   ],
   "source": [
    "fig, arr_ax = plt.subplots(1, 3, figsize=(12, 4))\n",
    "\n",
    "pyabc.visualization.plot_sample_numbers(history, ax=arr_ax[0])\n",
    "pyabc.visualization.plot_epsilons(history, ax=arr_ax[1])\n",
    "pyabc.visualization.plot_effective_sample_sizes(history, ax=arr_ax[2])\n",
    "\n"
   ]
  },
  {
   "cell_type": "markdown",
   "metadata": {
    "raw_mimetype": "text/restructuredtext"
   },
   "source": [
    "That's it. Now you can go ahead and try more sophisticated models."
   ]
  },
  {
   "cell_type": "markdown",
   "metadata": {},
   "source": [
    "# SBC on ABC-SMC"
   ]
  },
  {
   "cell_type": "code",
   "execution_count": 188,
   "metadata": {},
   "outputs": [
    {
     "data": {
      "text/plain": [
       "dict_values([np.float64(2.0083779250634515)])"
      ]
     },
     "execution_count": 188,
     "metadata": {},
     "output_type": "execute_result"
    }
   ],
   "source": [
    "samp = prior.rvs()\n",
    "samp.values()"
   ]
  },
  {
   "cell_type": "code",
   "execution_count": null,
   "metadata": {},
   "outputs": [
    {
     "data": {
      "text/plain": [
       "2.0083779250634515"
      ]
     },
     "execution_count": 189,
     "metadata": {},
     "output_type": "execute_result"
    }
   ],
   "source": []
  },
  {
   "cell_type": "code",
   "execution_count": 175,
   "metadata": {},
   "outputs": [
    {
     "data": {
      "text/plain": [
       "{'data': np.float64(1.2975979131308948)}"
      ]
     },
     "execution_count": 175,
     "metadata": {},
     "output_type": "execute_result"
    }
   ],
   "source": [
    "model(samp)"
   ]
  },
  {
   "cell_type": "code",
   "execution_count": 219,
   "metadata": {},
   "outputs": [],
   "source": [
    "def abc_smc_sbi(model, prior, distance, population_size=100, num_sbi_runs=100, minimum_epsilon=0.1, max_nr_populations=10):\n",
    "    abc = pyabc.ABCSMC(model, prior, distance, population_size=population_size)\n",
    "    db_path = os.path.join(tempfile.gettempdir(), \"test.db\") # String containing database path to store ABC_SMC runs\n",
    "    ranks = []\n",
    "    for i in range(num_sbi_runs):\n",
    "        prior_sample = prior.rvs() # Sample from prior. Returns a pyabc <Parameter> object\n",
    "        simulated_datapoint = model(prior_sample) # Simulate a datapoint from the model given the prior sample. Returns dict.\n",
    "        abc.new(\"sqlite:///\" + db_path, simulated_datapoint)\n",
    "        history = abc.run(minimum_epsilon, max_nr_populations)\n",
    "        posterior_samples = history.get_distribution()[0].to_numpy().flatten() # Numpy array of (population_size, ) samples.\n",
    "        rank = np.sum(next(iter(prior_sample.values())).item() * np.ones_like(posterior_samples) > posterior_samples) # Rank statistic\n",
    "        ranks.append(float(rank))\n",
    "    plt.hist(ranks, label=\"SBC rank histogram\")\n",
    "    plt.xlim(0, population_size)\n",
    "    plt.xlabel(\"Rank\")\n",
    "    plt.show()\n",
    "    return ranks\n"
   ]
  },
  {
   "cell_type": "code",
   "execution_count": 220,
   "metadata": {},
   "outputs": [
    {
     "name": "stderr",
     "output_type": "stream",
     "text": [
      "ABC.Sampler INFO: Parallelize sampling on 8 processes.\n",
      "ABC.History INFO: Start <ABCSMC id=22, start_time=2025-10-12 11:17:38>\n",
      "ABC INFO: Calibration sample t = -1.\n",
      "ABC INFO: t: 0, eps: 7.45141661e-01.\n",
      "ABC INFO: Accepted: 20 / 48 = 4.1667e-01, ESS: 2.0000e+01.\n",
      "ABC INFO: t: 1, eps: 5.17448123e-01.\n",
      "ABC INFO: Accepted: 20 / 42 = 4.7619e-01, ESS: 1.9352e+01.\n",
      "ABC INFO: t: 2, eps: 2.71505641e-01.\n",
      "ABC INFO: Accepted: 20 / 58 = 3.4483e-01, ESS: 1.6356e+01.\n",
      "ABC INFO: t: 3, eps: 1.86418792e-01.\n",
      "ABC INFO: Accepted: 20 / 83 = 2.4096e-01, ESS: 1.3241e+01.\n",
      "ABC INFO: t: 4, eps: 7.62705092e-02.\n",
      "ABC INFO: Accepted: 20 / 424 = 4.7170e-02, ESS: 1.9868e+01.\n",
      "ABC INFO: Stop: Minimum epsilon.\n",
      "ABC.History INFO: Done <ABCSMC id=22, duration=0:00:19.966929, end_time=2025-10-12 11:17:58>\n",
      "ABC.History INFO: Start <ABCSMC id=23, start_time=2025-10-12 11:17:58>\n",
      "ABC INFO: t: 0, eps: 8.53882884e-01.\n",
      "ABC INFO: Accepted: 20 / 38 = 5.2632e-01, ESS: 2.0000e+01.\n",
      "ABC INFO: t: 1, eps: 3.39089455e-01.\n",
      "ABC INFO: Accepted: 20 / 71 = 2.8169e-01, ESS: 1.9192e+01.\n",
      "ABC INFO: t: 2, eps: 1.79324203e-01.\n",
      "ABC INFO: Accepted: 20 / 105 = 1.9048e-01, ESS: 1.9671e+01.\n",
      "ABC INFO: t: 3, eps: 6.15877559e-02.\n",
      "ABC INFO: Accepted: 20 / 306 = 6.5359e-02, ESS: 1.5632e+01.\n",
      "ABC INFO: Stop: Minimum epsilon.\n",
      "ABC.History INFO: Done <ABCSMC id=23, duration=0:00:11.936746, end_time=2025-10-12 11:18:10>\n",
      "ABC.History INFO: Start <ABCSMC id=24, start_time=2025-10-12 11:18:10>\n",
      "ABC INFO: t: 0, eps: 8.92246322e-01.\n",
      "ABC INFO: Accepted: 20 / 34 = 5.8824e-01, ESS: 2.0000e+01.\n",
      "ABC INFO: t: 1, eps: 4.02314990e-01.\n",
      "ABC INFO: Accepted: 20 / 55 = 3.6364e-01, ESS: 1.9198e+01.\n",
      "ABC INFO: t: 2, eps: 2.50671119e-01.\n",
      "ABC INFO: Accepted: 20 / 102 = 1.9608e-01, ESS: 1.8734e+01.\n",
      "ABC INFO: t: 3, eps: 9.10417269e-02.\n",
      "ABC INFO: Accepted: 20 / 256 = 7.8125e-02, ESS: 1.9437e+01.\n",
      "ABC INFO: Stop: Minimum epsilon.\n",
      "ABC.History INFO: Done <ABCSMC id=24, duration=0:00:12.261595, end_time=2025-10-12 11:18:23>\n",
      "ABC.History INFO: Start <ABCSMC id=25, start_time=2025-10-12 11:18:23>\n",
      "ABC INFO: t: 0, eps: 6.85128983e-01.\n",
      "ABC INFO: Accepted: 20 / 65 = 3.0769e-01, ESS: 2.0000e+01.\n",
      "ABC INFO: t: 1, eps: 2.39580178e-01.\n",
      "ABC INFO: Accepted: 20 / 106 = 1.8868e-01, ESS: 1.9720e+01.\n",
      "ABC INFO: t: 2, eps: 1.29118057e-01.\n",
      "ABC INFO: Accepted: 20 / 104 = 1.9231e-01, ESS: 1.8333e+01.\n",
      "ABC INFO: t: 3, eps: 6.64050260e-02.\n",
      "ABC INFO: Accepted: 20 / 206 = 9.7087e-02, ESS: 1.9206e+01.\n",
      "ABC INFO: Stop: Minimum epsilon.\n",
      "ABC.History INFO: Done <ABCSMC id=25, duration=0:00:12.752911, end_time=2025-10-12 11:18:35>\n",
      "ABC.History INFO: Start <ABCSMC id=26, start_time=2025-10-12 11:18:35>\n",
      "ABC INFO: t: 0, eps: 9.34827321e-01.\n",
      "ABC INFO: Accepted: 20 / 46 = 4.3478e-01, ESS: 2.0000e+01.\n",
      "ABC INFO: t: 1, eps: 5.39439887e-01.\n",
      "ABC INFO: Accepted: 20 / 61 = 3.2787e-01, ESS: 1.8429e+01.\n",
      "ABC INFO: t: 2, eps: 2.75566277e-01.\n",
      "ABC INFO: Accepted: 20 / 98 = 2.0408e-01, ESS: 1.8110e+01.\n",
      "ABC INFO: t: 3, eps: 1.30038144e-01.\n",
      "ABC INFO: Accepted: 20 / 119 = 1.6807e-01, ESS: 1.9361e+01.\n",
      "ABC INFO: t: 4, eps: 8.77322733e-02.\n",
      "ABC INFO: Accepted: 20 / 233 = 8.5837e-02, ESS: 1.6130e+01.\n",
      "ABC INFO: Stop: Minimum epsilon.\n",
      "ABC.History INFO: Done <ABCSMC id=26, duration=0:00:15.428554, end_time=2025-10-12 11:18:51>\n",
      "ABC.History INFO: Start <ABCSMC id=27, start_time=2025-10-12 11:18:51>\n",
      "ABC INFO: t: 0, eps: 1.16757928e+00.\n",
      "ABC INFO: Accepted: 20 / 61 = 3.2787e-01, ESS: 2.0000e+01.\n",
      "ABC INFO: t: 1, eps: 5.62321916e-01.\n",
      "ABC INFO: Accepted: 20 / 62 = 3.2258e-01, ESS: 1.9119e+01.\n",
      "ABC INFO: t: 2, eps: 3.66608684e-01.\n",
      "ABC INFO: Accepted: 20 / 38 = 5.2632e-01, ESS: 1.5399e+01.\n",
      "ABC INFO: t: 3, eps: 1.74235319e-01.\n",
      "ABC INFO: Accepted: 20 / 175 = 1.1429e-01, ESS: 1.9521e+01.\n",
      "ABC INFO: t: 4, eps: 7.29453772e-02.\n",
      "ABC INFO: Accepted: 20 / 227 = 8.8106e-02, ESS: 1.5038e+01.\n",
      "ABC INFO: Stop: Minimum epsilon.\n",
      "ABC.History INFO: Done <ABCSMC id=27, duration=0:00:15.032791, end_time=2025-10-12 11:19:06>\n",
      "ABC.History INFO: Start <ABCSMC id=28, start_time=2025-10-12 11:19:06>\n",
      "ABC INFO: t: 0, eps: 7.43617901e-01.\n",
      "ABC INFO: Accepted: 20 / 40 = 5.0000e-01, ESS: 2.0000e+01.\n",
      "ABC INFO: t: 1, eps: 3.76826667e-01.\n",
      "ABC INFO: Accepted: 20 / 50 = 4.0000e-01, ESS: 1.8538e+01.\n",
      "ABC INFO: t: 2, eps: 1.83196476e-01.\n",
      "ABC INFO: Accepted: 20 / 93 = 2.1505e-01, ESS: 1.9558e+01.\n",
      "ABC INFO: t: 3, eps: 9.65616829e-02.\n",
      "ABC INFO: Accepted: 20 / 178 = 1.1236e-01, ESS: 1.4678e+01.\n",
      "ABC INFO: Stop: Minimum epsilon.\n",
      "ABC.History INFO: Done <ABCSMC id=28, duration=0:00:12.278197, end_time=2025-10-12 11:19:18>\n",
      "ABC.History INFO: Start <ABCSMC id=29, start_time=2025-10-12 11:19:18>\n",
      "ABC INFO: t: 0, eps: 6.85128983e-01.\n",
      "ABC INFO: Accepted: 20 / 52 = 3.8462e-01, ESS: 2.0000e+01.\n",
      "ABC INFO: t: 1, eps: 2.89935603e-01.\n",
      "ABC INFO: Accepted: 20 / 95 = 2.1053e-01, ESS: 1.9730e+01.\n",
      "ABC INFO: t: 2, eps: 8.52418403e-02.\n",
      "ABC INFO: Accepted: 20 / 140 = 1.4286e-01, ESS: 1.8866e+01.\n",
      "ABC INFO: Stop: Minimum epsilon.\n",
      "ABC.History INFO: Done <ABCSMC id=29, duration=0:00:08.857969, end_time=2025-10-12 11:19:27>\n",
      "ABC.History INFO: Start <ABCSMC id=30, start_time=2025-10-12 11:19:27>\n",
      "ABC INFO: t: 0, eps: 1.50946278e+00.\n",
      "ABC INFO: Accepted: 20 / 36 = 5.5556e-01, ESS: 2.0000e+01.\n",
      "ABC INFO: t: 1, eps: 1.02592091e+00.\n",
      "ABC INFO: Accepted: 20 / 35 = 5.7143e-01, ESS: 1.7658e+01.\n",
      "ABC INFO: t: 2, eps: 4.83295916e-01.\n",
      "ABC INFO: Accepted: 20 / 76 = 2.6316e-01, ESS: 1.5959e+01.\n",
      "ABC INFO: t: 3, eps: 2.88307932e-01.\n",
      "ABC INFO: Accepted: 20 / 76 = 2.6316e-01, ESS: 1.6913e+01.\n",
      "ABC INFO: t: 4, eps: 1.63838765e-01.\n",
      "ABC INFO: Accepted: 20 / 106 = 1.8868e-01, ESS: 1.9568e+01.\n",
      "ABC INFO: t: 5, eps: 7.87233545e-02.\n",
      "ABC INFO: Accepted: 20 / 303 = 6.6007e-02, ESS: 1.7585e+01.\n",
      "ABC INFO: Stop: Minimum epsilon.\n",
      "ABC.History INFO: Done <ABCSMC id=30, duration=0:00:18.197238, end_time=2025-10-12 11:19:45>\n",
      "ABC.History INFO: Start <ABCSMC id=31, start_time=2025-10-12 11:19:45>\n",
      "ABC INFO: t: 0, eps: 8.05840242e-01.\n",
      "ABC INFO: Accepted: 20 / 37 = 5.4054e-01, ESS: 2.0000e+01.\n",
      "ABC INFO: t: 1, eps: 4.66749812e-01.\n",
      "ABC INFO: Accepted: 20 / 40 = 5.0000e-01, ESS: 1.7489e+01.\n",
      "ABC INFO: t: 2, eps: 1.44559070e-01.\n",
      "ABC INFO: Accepted: 20 / 139 = 1.4388e-01, ESS: 1.9235e+01.\n",
      "ABC INFO: t: 3, eps: 5.22445019e-02.\n",
      "ABC INFO: Accepted: 20 / 425 = 4.7059e-02, ESS: 1.4408e+01.\n",
      "ABC INFO: Stop: Minimum epsilon.\n",
      "ABC.History INFO: Done <ABCSMC id=31, duration=0:00:12.169313, end_time=2025-10-12 11:19:57>\n",
      "ABC.History INFO: Start <ABCSMC id=32, start_time=2025-10-12 11:19:57>\n",
      "ABC INFO: t: 0, eps: 2.74930862e+00.\n",
      "ABC INFO: Accepted: 20 / 42 = 4.7619e-01, ESS: 2.0000e+01.\n",
      "ABC INFO: t: 1, eps: 1.94088370e+00.\n",
      "ABC INFO: Accepted: 20 / 26 = 7.6923e-01, ESS: 1.0349e+01.\n",
      "ABC INFO: t: 2, eps: 1.43338221e+00.\n",
      "ABC INFO: Accepted: 20 / 53 = 3.7736e-01, ESS: 1.4913e+01.\n",
      "ABC INFO: t: 3, eps: 1.14668851e+00.\n",
      "ABC INFO: Accepted: 20 / 41 = 4.8780e-01, ESS: 1.8643e+01.\n",
      "ABC INFO: t: 4, eps: 6.40921953e-01.\n",
      "ABC INFO: Accepted: 20 / 56 = 3.5714e-01, ESS: 1.6480e+01.\n",
      "ABC INFO: t: 5, eps: 4.00207038e-01.\n",
      "ABC INFO: Accepted: 20 / 94 = 2.1277e-01, ESS: 1.4900e+01.\n",
      "ABC INFO: t: 6, eps: 2.01974985e-01.\n",
      "ABC INFO: Accepted: 20 / 243 = 8.2305e-02, ESS: 1.9224e+01.\n",
      "ABC INFO: t: 7, eps: 9.07863098e-02.\n",
      "ABC INFO: Accepted: 20 / 188 = 1.0638e-01, ESS: 8.4627e+00.\n",
      "ABC INFO: Stop: Minimum epsilon.\n",
      "ABC.History INFO: Done <ABCSMC id=32, duration=0:00:25.519475, end_time=2025-10-12 11:20:23>\n",
      "ABC.History INFO: Start <ABCSMC id=33, start_time=2025-10-12 11:20:23>\n",
      "ABC INFO: t: 0, eps: 1.06576563e+00.\n",
      "ABC INFO: Accepted: 20 / 30 = 6.6667e-01, ESS: 2.0000e+01.\n",
      "ABC INFO: t: 1, eps: 5.95950435e-01.\n",
      "ABC INFO: Accepted: 20 / 49 = 4.0816e-01, ESS: 1.6609e+01.\n",
      "ABC INFO: t: 2, eps: 3.63389668e-01.\n",
      "ABC INFO: Accepted: 20 / 75 = 2.6667e-01, ESS: 1.7628e+01.\n",
      "ABC INFO: t: 3, eps: 1.48994485e-01.\n",
      "ABC INFO: Accepted: 20 / 105 = 1.9048e-01, ESS: 1.9334e+01.\n",
      "ABC INFO: t: 4, eps: 6.62828499e-02.\n",
      "ABC INFO: Accepted: 20 / 266 = 7.5188e-02, ESS: 1.6614e+01.\n",
      "ABC INFO: Stop: Minimum epsilon.\n",
      "ABC.History INFO: Done <ABCSMC id=33, duration=0:00:15.486590, end_time=2025-10-12 11:20:38>\n",
      "ABC.History INFO: Start <ABCSMC id=34, start_time=2025-10-12 11:20:38>\n",
      "ABC INFO: t: 0, eps: 1.39485710e+00.\n",
      "ABC INFO: Accepted: 20 / 40 = 5.0000e-01, ESS: 2.0000e+01.\n",
      "ABC INFO: t: 1, eps: 5.97126170e-01.\n",
      "ABC INFO: Accepted: 20 / 33 = 6.0606e-01, ESS: 1.6494e+01.\n",
      "ABC INFO: t: 2, eps: 3.38553269e-01.\n",
      "ABC INFO: Accepted: 20 / 89 = 2.2472e-01, ESS: 1.9502e+01.\n",
      "ABC INFO: t: 3, eps: 1.98917316e-01.\n",
      "ABC INFO: Accepted: 20 / 94 = 2.1277e-01, ESS: 1.7703e+01.\n",
      "ABC INFO: t: 4, eps: 1.29004567e-01.\n",
      "ABC INFO: Accepted: 20 / 133 = 1.5038e-01, ESS: 1.7605e+01.\n",
      "ABC INFO: t: 5, eps: 8.15505432e-02.\n",
      "ABC INFO: Accepted: 20 / 205 = 9.7561e-02, ESS: 1.7672e+00.\n",
      "ABC INFO: Stop: Minimum epsilon.\n",
      "ABC.History INFO: Done <ABCSMC id=34, duration=0:00:18.863688, end_time=2025-10-12 11:20:57>\n",
      "ABC.History INFO: Start <ABCSMC id=35, start_time=2025-10-12 11:20:57>\n",
      "ABC INFO: t: 0, eps: 6.85128983e-01.\n",
      "ABC INFO: Accepted: 20 / 42 = 4.7619e-01, ESS: 2.0000e+01.\n",
      "ABC INFO: t: 1, eps: 3.06904350e-01.\n",
      "ABC INFO: Accepted: 20 / 56 = 3.5714e-01, ESS: 1.9595e+01.\n",
      "ABC INFO: t: 2, eps: 1.60786875e-01.\n",
      "ABC INFO: Accepted: 20 / 139 = 1.4388e-01, ESS: 1.7398e+01.\n",
      "ABC INFO: t: 3, eps: 1.01373701e-01.\n",
      "ABC INFO: Accepted: 20 / 123 = 1.6260e-01, ESS: 1.8877e+01.\n",
      "ABC INFO: t: 4, eps: 5.50995254e-02.\n",
      "ABC INFO: Accepted: 20 / 255 = 7.8431e-02, ESS: 1.7444e+01.\n",
      "ABC INFO: Stop: Minimum epsilon.\n",
      "ABC.History INFO: Done <ABCSMC id=35, duration=0:00:15.895945, end_time=2025-10-12 11:21:13>\n",
      "ABC.History INFO: Start <ABCSMC id=36, start_time=2025-10-12 11:21:13>\n",
      "ABC INFO: t: 0, eps: 8.27898563e-01.\n",
      "ABC INFO: Accepted: 20 / 58 = 3.4483e-01, ESS: 2.0000e+01.\n",
      "ABC INFO: t: 1, eps: 4.74740326e-01.\n",
      "ABC INFO: Accepted: 20 / 50 = 4.0000e-01, ESS: 1.8222e+01.\n",
      "ABC INFO: t: 2, eps: 2.43470488e-01.\n",
      "ABC INFO: Accepted: 20 / 72 = 2.7778e-01, ESS: 1.8324e+01.\n",
      "ABC INFO: t: 3, eps: 1.43021683e-01.\n",
      "ABC INFO: Accepted: 20 / 118 = 1.6949e-01, ESS: 1.6982e+01.\n",
      "ABC INFO: t: 4, eps: 5.01498224e-02.\n",
      "ABC INFO: Accepted: 20 / 445 = 4.4944e-02, ESS: 1.9236e+01.\n",
      "ABC INFO: Stop: Minimum epsilon.\n",
      "ABC.History INFO: Done <ABCSMC id=36, duration=0:00:15.264141, end_time=2025-10-12 11:21:28>\n",
      "ABC.History INFO: Start <ABCSMC id=37, start_time=2025-10-12 11:21:29>\n",
      "ABC INFO: t: 0, eps: 9.02840086e-01.\n",
      "ABC INFO: Accepted: 20 / 31 = 6.4516e-01, ESS: 2.0000e+01.\n",
      "ABC INFO: t: 1, eps: 3.65640628e-01.\n",
      "ABC INFO: Accepted: 20 / 44 = 4.5455e-01, ESS: 1.8934e+01.\n",
      "ABC INFO: t: 2, eps: 1.49568349e-01.\n",
      "ABC INFO: Accepted: 20 / 149 = 1.3423e-01, ESS: 1.9023e+01.\n",
      "ABC INFO: t: 3, eps: 8.73559218e-02.\n",
      "ABC INFO: Accepted: 20 / 92 = 2.1739e-01, ESS: 1.8590e+01.\n",
      "ABC INFO: Stop: Minimum epsilon.\n",
      "ABC.History INFO: Done <ABCSMC id=37, duration=0:00:12.218189, end_time=2025-10-12 11:21:41>\n",
      "ABC.History INFO: Start <ABCSMC id=38, start_time=2025-10-12 11:21:41>\n",
      "ABC INFO: t: 0, eps: 8.04230001e-01.\n",
      "ABC INFO: Accepted: 20 / 44 = 4.5455e-01, ESS: 2.0000e+01.\n",
      "ABC INFO: t: 1, eps: 2.35359770e-01.\n",
      "ABC INFO: Accepted: 20 / 71 = 2.8169e-01, ESS: 1.8391e+01.\n",
      "ABC INFO: t: 2, eps: 1.07983240e-01.\n",
      "ABC INFO: Accepted: 20 / 148 = 1.3514e-01, ESS: 1.8805e+01.\n",
      "ABC INFO: t: 3, eps: 7.96746061e-02.\n",
      "ABC INFO: Accepted: 20 / 214 = 9.3458e-02, ESS: 1.8752e+01.\n",
      "ABC INFO: Stop: Minimum epsilon.\n",
      "ABC.History INFO: Done <ABCSMC id=38, duration=0:00:12.258526, end_time=2025-10-12 11:21:53>\n",
      "ABC.History INFO: Start <ABCSMC id=39, start_time=2025-10-12 11:21:53>\n",
      "ABC INFO: t: 0, eps: 8.43302358e-01.\n",
      "ABC INFO: Accepted: 20 / 49 = 4.0816e-01, ESS: 2.0000e+01.\n",
      "ABC INFO: t: 1, eps: 3.78831770e-01.\n",
      "ABC INFO: Accepted: 20 / 54 = 3.7037e-01, ESS: 1.9113e+01.\n",
      "ABC INFO: t: 2, eps: 2.08042819e-01.\n",
      "ABC INFO: Accepted: 20 / 82 = 2.4390e-01, ESS: 1.9759e+01.\n",
      "ABC INFO: t: 3, eps: 9.91962705e-02.\n",
      "ABC INFO: Accepted: 20 / 150 = 1.3333e-01, ESS: 1.6225e+01.\n",
      "ABC INFO: Stop: Minimum epsilon.\n",
      "ABC.History INFO: Done <ABCSMC id=39, duration=0:00:14.099466, end_time=2025-10-12 11:22:07>\n",
      "ABC.History INFO: Start <ABCSMC id=40, start_time=2025-10-12 11:22:07>\n",
      "ABC INFO: t: 0, eps: 6.85128983e-01.\n",
      "ABC INFO: Accepted: 20 / 46 = 4.3478e-01, ESS: 2.0000e+01.\n",
      "ABC INFO: t: 1, eps: 2.49491701e-01.\n",
      "ABC INFO: Accepted: 20 / 92 = 2.1739e-01, ESS: 1.9528e+01.\n",
      "ABC INFO: t: 2, eps: 1.14714764e-01.\n",
      "ABC INFO: Accepted: 20 / 94 = 2.1277e-01, ESS: 1.7788e+01.\n",
      "ABC INFO: t: 3, eps: 5.75562220e-02.\n",
      "ABC INFO: Accepted: 20 / 295 = 6.7797e-02, ESS: 1.9760e+01.\n",
      "ABC INFO: Stop: Minimum epsilon.\n",
      "ABC.History INFO: Done <ABCSMC id=40, duration=0:00:15.964445, end_time=2025-10-12 11:22:23>\n",
      "ABC.History INFO: Start <ABCSMC id=41, start_time=2025-10-12 11:22:23>\n",
      "ABC INFO: t: 0, eps: 9.02840086e-01.\n",
      "ABC INFO: Accepted: 20 / 42 = 4.7619e-01, ESS: 2.0000e+01.\n",
      "ABC INFO: t: 1, eps: 3.48766197e-01.\n",
      "ABC INFO: Accepted: 20 / 66 = 3.0303e-01, ESS: 1.9713e+01.\n",
      "ABC INFO: t: 2, eps: 1.49559967e-01.\n",
      "ABC INFO: Accepted: 20 / 148 = 1.3514e-01, ESS: 1.7716e+01.\n",
      "ABC INFO: t: 3, eps: 6.49325172e-02.\n",
      "ABC INFO: Accepted: 20 / 296 = 6.7568e-02, ESS: 1.6749e+01.\n",
      "ABC INFO: Stop: Minimum epsilon.\n",
      "ABC.History INFO: Done <ABCSMC id=41, duration=0:00:13.269298, end_time=2025-10-12 11:22:36>\n"
     ]
    },
    {
     "data": {
      "image/png": "[encoded data removed]",
      "text/plain": [
       "<Figure size 640x480 with 1 Axes>"
      ]
     },
     "metadata": {},
     "output_type": "display_data"
    },
    {
     "data": {
      "text/plain": [
       "[14.0,\n",
       " 11.0,\n",
       " 20.0,\n",
       " 13.0,\n",
       " 6.0,\n",
       " 0.0,\n",
       " 8.0,\n",
       " 8.0,\n",
       " 12.0,\n",
       " 12.0,\n",
       " 18.0,\n",
       " 20.0,\n",
       " 7.0,\n",
       " 0.0,\n",
       " 10.0,\n",
       " 13.0,\n",
       " 1.0,\n",
       " 15.0,\n",
       " 20.0,\n",
       " 19.0]"
      ]
     },
     "execution_count": 220,
     "metadata": {},
     "output_type": "execute_result"
    }
   ],
   "source": [
    "abc_smc_sbi(model, prior, distance, population_size=20, num_sbi_runs=20)"
   ]
  },
  {
   "cell_type": "code",
   "execution_count": null,
   "metadata": {},
   "outputs": [],
   "source": []
  }
 ],
 "metadata": {
  "celltoolbar": "Raw Cell Format",
  "kernelspec": {
   "display_name": "abc_venv",
   "language": "python",
   "name": "python3"
  },
  "language_info": {
   "codemirror_mode": {
    "name": "ipython",
    "version": 3
   },
   "file_extension": ".py",
   "mimetype": "text/x-python",
   "name": "python",
   "nbconvert_exporter": "python",
   "pygments_lexer": "ipython3",
   "version": "3.9.6"
  }
 },
 "nbformat": 4,
 "nbformat_minor": 4
}
