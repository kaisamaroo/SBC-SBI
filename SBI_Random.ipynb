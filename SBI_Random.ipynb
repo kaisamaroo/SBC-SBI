{
  "cells": [
    {
      "cell_type": "markdown",
      "metadata": {
        "id": "B5Vq9a-q_SZ9"
      },
      "source": [
        "Install relevant packages"
      ]
    },
    {
      "cell_type": "code",
      "execution_count": null,
      "metadata": {
        "id": "-CTpIBOVCvJU"
      },
      "outputs": [],
      "source": [
        "from sbi.utils import BoxUniform\n",
        "import torch\n",
        "from sbi.inference import NPE\n",
        "from sbi.analysis import pairplot"
      ]
    },
    {
      "cell_type": "markdown",
      "metadata": {
        "id": "OVceoK04_WMm"
      },
      "source": [
        "### Example 1: Simple noisy transformation\n",
        "\n",
        "For a parameter vector $\\theta \\in \\mathbb{R}^n$, we define simulator($\\theta$) (which implicitly defines a likelihood $p(x|\\theta)$) as follows\n",
        "\n",
        "$$\\text{simulator}(\\theta) = \\theta + (1,1,...,1) + \\mathbf{\\epsilon}$$\n",
        "\n",
        "where $\\mathbf{\\epsilon} \\sim N(\\mathbf{0}, 0.1^2I)$. We place a uniform prior over $\\theta$\n",
        "\n",
        "$$\\theta \\sim \\text{Unif}[-2,2]^n$$"
      ]
    },
    {
      "cell_type": "code",
      "execution_count": 5,
      "metadata": {
        "id": "uAsk7GP3CznU"
      },
      "outputs": [],
      "source": [
        "# Define the likelihood (simulator)\n",
        "num_dim = 3 # Dimension of theta\n",
        "\n",
        "def simulator(theta):\n",
        "    # Linear Gaussian.\n",
        "    return theta + 1.0 + torch.randn_like(theta) * 0.1"
      ]
    },
    {
      "cell_type": "code",
      "execution_count": 6,
      "metadata": {
        "id": "YSGOvSBHDkrC"
      },
      "outputs": [],
      "source": [
        "prior = BoxUniform(low=-2 * torch.ones(num_dim), high=2 * torch.ones(num_dim))"
      ]
    },
    {
      "cell_type": "code",
      "execution_count": 8,
      "metadata": {
        "colab": {
          "base_uri": "https://localhost:8080/"
        },
        "id": "0Uo1VhfQDj2H",
        "outputId": "1a1bf1e8-5a69-4ee8-cae9-d0cc79313a7d"
      },
      "outputs": [
        {
          "name": "stdout",
          "output_type": "stream",
          "text": [
            "theta.shape torch.Size([2000, 3])\n",
            "x.shape torch.Size([2000, 3])\n"
          ]
        }
      ],
      "source": [
        "inference = NPE(prior=prior)\n",
        "num_simulations = 2000\n",
        "theta = prior.sample((num_simulations,))\n",
        "x = simulator(theta)\n",
        "inference = inference.append_simulations(theta, x)\n",
        "density_estimator = inference.train()\n",
        "posterior = inference.build_posterior()\n"
      ]
    },
    {
      "cell_type": "code",
      "execution_count": 11,
      "metadata": {
        "id": "W9Z-YIaIE7q_"
      },
      "outputs": [],
      "source": [
        "x_obs = torch.tensor([2, 2, 2]) # Observed data\n",
        "samples = posterior.sample((10000,), x=x_obs)"
      ]
    },
    {
      "cell_type": "code",
      "execution_count": 14,
      "metadata": {
        "colab": {
          "base_uri": "https://localhost:8080/",
          "height": 483
        },
        "id": "4c-PgNwcFQ-N",
        "outputId": "9f278d46-0ecf-4313-9195-3b44be5459f7"
      },
      "outputs": [
        {
          "data": {
            "image/png": "[encoded data removed]",
            "text/plain": [
              "<Figure size 500x500 with 9 Axes>"
            ]
          },
          "metadata": {},
          "output_type": "display_data"
        }
      ],
      "source": [
        "_ = pairplot(\n",
        "    samples,\n",
        "    limits=[[-2, 2], [-2, 2], [-2, 2]],\n",
        "    figsize=(5, 5),\n",
        "    labels=[r\"$\\theta_1$\", r\"$\\theta_2$\", r\"$\\theta_3$\"]\n",
        ")"
      ]
    },
    {
      "cell_type": "markdown",
      "metadata": {
        "id": "CLdcYrY2BYcj"
      },
      "source": [
        "### Example 2: Gaussian\n",
        "\n",
        "Let $\\theta = (\\mu, \\sigma^2)$ denote the parameters of a Gaussian. Our simulator is\n",
        "\n",
        "$$\\text{simulator}(\\theta) \\sim N(\\mu, \\sigma^2)$$\n",
        "\n",
        "We place a uniform prior over $\\theta$\n",
        "\n",
        "$$\\theta \\sim \\text{Unif}[0,3]^2$$"
      ]
    },
    {
      "cell_type": "code",
      "execution_count": 111,
      "metadata": {
        "id": "Lw-DF4wQFgub"
      },
      "outputs": [],
      "source": [
        "# Define the likelihood (simulator)\n",
        "num_dim = 2\n",
        "def simulator(theta):\n",
        "    return torch.normal(theta[:,0], theta[:,1])"
      ]
    },
    {
      "cell_type": "code",
      "execution_count": 112,
      "metadata": {
        "id": "2nvDzEJhCTVy"
      },
      "outputs": [],
      "source": [
        "prior = BoxUniform(low=0 * torch.ones(num_dim), high=3 * torch.ones(num_dim))"
      ]
    },
    {
      "cell_type": "code",
      "execution_count": 113,
      "metadata": {
        "colab": {
          "base_uri": "https://localhost:8080/"
        },
        "id": "u-aXnhMxHggW",
        "outputId": "f312b9d2-da67-426e-aa93-ae7b9ebea705"
      },
      "outputs": [
        {
          "name": "stdout",
          "output_type": "stream",
          "text": [
            " Neural network successfully converged after 149 epochs."
          ]
        }
      ],
      "source": [
        "inference = NPE(prior=prior)\n",
        "num_simulations = 2000\n",
        "theta = prior.sample((num_simulations,))\n",
        "x = simulator(theta).reshape(-1,1)\n",
        "inference = inference.append_simulations(theta, x)\n",
        "density_estimator = inference.train()\n",
        "posterior = inference.build_posterior()"
      ]
    },
    {
      "cell_type": "code",
      "execution_count": 117,
      "metadata": {
        "colab": {
          "base_uri": "https://localhost:8080/",
          "height": 49,
          "referenced_widgets": [
            "089428eede7445e2bf33b9c8a125dded",
            "7492f84809f44acdaee88b3dc98bf2bd",
            "354bf749cb204ce59712d90ee07b8060",
            "769a3b4df1834a8a9340d37b12febce0",
            "b0fb980f20a0449dbce652777834eef2",
            "f502c9f1d8f54750935aa9ca2a4fae22",
            "3e4324f8b4f3443ca60cf1bee4344178",
            "4d0ec5d6643d4f5faa59a846a2f85d87",
            "22366b05f9c94a25bd1db74cf45d134f",
            "f46232978156451f9935983a7a6391f4",
            "ee886488a7bf44cda5f6fd8fe6942a08"
          ]
        },
        "id": "c0Xr_6wzIKb1",
        "outputId": "d07cae4b-f15f-424b-b1f1-803b323b7084"
      },
      "outputs": [
        {
          "data": {
            "application/vnd.jupyter.widget-view+json": {
              "model_id": "089428eede7445e2bf33b9c8a125dded",
              "version_major": 2,
              "version_minor": 0
            },
            "text/plain": [
              "  0%|          | 0/10000 [00:00<?, ?it/s]"
            ]
          },
          "metadata": {},
          "output_type": "display_data"
        }
      ],
      "source": [
        "x_obs = torch.tensor(2.9)\n",
        "samples = posterior.sample((10000,), x=x_obs)"
      ]
    },
    {
      "cell_type": "code",
      "execution_count": 119,
      "metadata": {
        "colab": {
          "base_uri": "https://localhost:8080/",
          "height": 478
        },
        "id": "yhbzN2I1IKX1",
        "outputId": "4902fc5c-5d9f-4b74-c311-03f29e81b03a"
      },
      "outputs": [
        {
          "data": {
            "image/png": "[encoded data removed]",
            "text/plain": [
              "<Figure size 500x500 with 4 Axes>"
            ]
          },
          "metadata": {},
          "output_type": "display_data"
        }
      ],
      "source": [
        "_ = pairplot(\n",
        "    samples,\n",
        "    limits=[[0,3], [0,3]],\n",
        "    figsize=(5, 5),\n",
        "    labels=[r\"$\\mu$\", r\"$\\sigma$\"]\n",
        ")"
      ]
    },
    {
      "cell_type": "markdown",
      "metadata": {
        "id": "ldFDz6B0DE6v"
      },
      "source": [
        "### Example 3: Same as Example 2 but multiple i.i.d samples.\n",
        "\n",
        "Let $\\theta = (\\mu, \\sigma^2)$ denote the parameters of a Gaussian. Our simulator is\n",
        "\n",
        "$$\\text{simulator}(\\theta) = (w_1,...,w_N)$$\n",
        "\n",
        "where each $w_i \\sim N(\\mu, \\sigma^2)$. We place a uniform prior over $\\theta$\n",
        "\n",
        "$$\\theta \\sim \\text{Unif}[0,3]^2$$"
      ]
    },
    {
      "cell_type": "code",
      "execution_count": 132,
      "metadata": {
        "id": "jE_d163v_Ptp"
      },
      "outputs": [],
      "source": [
        "# Define the likelihood (simulator)\n",
        "num_samples = 50\n",
        "num_dim = 2\n",
        "def simulator(theta):\n",
        "    return torch.normal(theta[:,0].unsqueeze(1).expand(-1, num_samples), theta[:,1].unsqueeze(1).expand(-1, num_samples))"
      ]
    },
    {
      "cell_type": "code",
      "execution_count": 133,
      "metadata": {
        "id": "yZlJAtnND2hJ"
      },
      "outputs": [],
      "source": [
        "prior = BoxUniform(low=0 * torch.ones(num_dim), high=3 * torch.ones(num_dim))"
      ]
    },
    {
      "cell_type": "code",
      "execution_count": 134,
      "metadata": {
        "colab": {
          "base_uri": "https://localhost:8080/"
        },
        "id": "toA1GIE3EXdD",
        "outputId": "1a025af2-c6ad-4510-adb5-a95bfc2a04d1"
      },
      "outputs": [
        {
          "name": "stdout",
          "output_type": "stream",
          "text": [
            " Neural network successfully converged after 44 epochs."
          ]
        }
      ],
      "source": [
        "inference = NPE(prior=prior)\n",
        "num_simulations = 2000\n",
        "theta = prior.sample((num_simulations,)) # (num_simulations, 2)\n",
        "x = simulator(theta).reshape(-1,num_samples) # (num_simulations, n_samples)\n",
        "inference = inference.append_simulations(theta, x)\n",
        "density_estimator = inference.train()\n",
        "posterior = inference.build_posterior()"
      ]
    },
    {
      "cell_type": "code",
      "execution_count": 147,
      "metadata": {
        "colab": {
          "base_uri": "https://localhost:8080/",
          "height": 49,
          "referenced_widgets": [
            "0e3b5aca04ff4c34bc615aa3babfd6bc",
            "d90d189daf4243269284d0e870db2add",
            "5ab43a6ed58a4824aa4632c34048704d",
            "8fbca2e183fb40dbb67a6366ae3b413d",
            "4f104b6da5d4478eb8fc76a32b739103",
            "984fdc1da0fb403b9e7aec588a9b7c7b",
            "f22eb8829c0e474b863a0a26efdbfdd8",
            "6d5beb83e31246b5a87d3ee1a106a80f",
            "4c80c7d101b04afcb47e2eabe7c8820a",
            "d2617a1776a748ac8c71e00632319b72",
            "ba36fea0a2844645befa1cfc3a6ef1be"
          ]
        },
        "id": "Wbm37j9vEiCV",
        "outputId": "099238db-6d3f-4d30-96db-cfdbd6e7ea46"
      },
      "outputs": [
        {
          "data": {
            "application/vnd.jupyter.widget-view+json": {
              "model_id": "0e3b5aca04ff4c34bc615aa3babfd6bc",
              "version_major": 2,
              "version_minor": 0
            },
            "text/plain": [
              "  0%|          | 0/10000 [00:00<?, ?it/s]"
            ]
          },
          "metadata": {},
          "output_type": "display_data"
        }
      ],
      "source": [
        "x_obs = 2.9 * torch.ones(num_samples) + 0.5 * torch.randn_like(torch.ones(num_samples))\n",
        "samples = posterior.sample((10000,), x=x_obs)"
      ]
    },
    {
      "cell_type": "code",
      "execution_count": 148,
      "metadata": {
        "colab": {
          "base_uri": "https://localhost:8080/",
          "height": 478
        },
        "id": "tAi6CZScHS33",
        "outputId": "aa1de437-6f12-44b5-cbb6-cab375be0876"
      },
      "outputs": [
        {
          "data": {
            "image/png": "[encoded data removed]",
            "text/plain": [
              "<Figure size 500x500 with 4 Axes>"
            ]
          },
          "metadata": {},
          "output_type": "display_data"
        }
      ],
      "source": [
        "_ = pairplot(\n",
        "    samples,\n",
        "    limits=[[0, 3], [0, 3]],\n",
        "    figsize=(5, 5),\n",
        "    labels=[r\"$\\mu$\", r\"$\\sigma$\"]\n",
        ")"
      ]
    },
    {
      "cell_type": "code",
      "execution_count": null,
      "metadata": {
        "id": "_8V3qdoDHWwv"
      },
      "outputs": [],
      "source": []
    }
  ],
  "metadata": {
    "colab": {
      "provenance": []
    },
    "kernelspec": {
      "display_name": "Python 3",
      "name": "python3"
    },
    "language_info": {
      "name": "python"
    },
    "widgets": {
      "application/vnd.jupyter.widget-state+json": {
        "089428eede7445e2bf33b9c8a125dded": {
          "model_module": "@jupyter-widgets/controls",
          "model_module_version": "1.5.0",
          "model_name": "HBoxModel",
          "state": {
            "_dom_classes": [],
            "_model_module": "@jupyter-widgets/controls",
            "_model_module_version": "1.5.0",
            "_model_name": "HBoxModel",
            "_view_count": null,
            "_view_module": "@jupyter-widgets/controls",
            "_view_module_version": "1.5.0",
            "_view_name": "HBoxView",
            "box_style": "",
            "children": [
              "IPY_MODEL_7492f84809f44acdaee88b3dc98bf2bd",
              "IPY_MODEL_354bf749cb204ce59712d90ee07b8060",
              "IPY_MODEL_769a3b4df1834a8a9340d37b12febce0"
            ],
            "layout": "IPY_MODEL_b0fb980f20a0449dbce652777834eef2"
          }
        },
        "0e3b5aca04ff4c34bc615aa3babfd6bc": {
          "model_module": "@jupyter-widgets/controls",
          "model_module_version": "1.5.0",
          "model_name": "HBoxModel",
          "state": {
            "_dom_classes": [],
            "_model_module": "@jupyter-widgets/controls",
            "_model_module_version": "1.5.0",
            "_model_name": "HBoxModel",
            "_view_count": null,
            "_view_module": "@jupyter-widgets/controls",
            "_view_module_version": "1.5.0",
            "_view_name": "HBoxView",
            "box_style": "",
            "children": [
              "IPY_MODEL_d90d189daf4243269284d0e870db2add",
              "IPY_MODEL_5ab43a6ed58a4824aa4632c34048704d",
              "IPY_MODEL_8fbca2e183fb40dbb67a6366ae3b413d"
            ],
            "layout": "IPY_MODEL_4f104b6da5d4478eb8fc76a32b739103"
          }
        },
        "22366b05f9c94a25bd1db74cf45d134f": {
          "model_module": "@jupyter-widgets/controls",
          "model_module_version": "1.5.0",
          "model_name": "ProgressStyleModel",
          "state": {
            "_model_module": "@jupyter-widgets/controls",
            "_model_module_version": "1.5.0",
            "_model_name": "ProgressStyleModel",
            "_view_count": null,
            "_view_module": "@jupyter-widgets/base",
            "_view_module_version": "1.2.0",
            "_view_name": "StyleView",
            "bar_color": null,
            "description_width": ""
          }
        },
        "354bf749cb204ce59712d90ee07b8060": {
          "model_module": "@jupyter-widgets/controls",
          "model_module_version": "1.5.0",
          "model_name": "FloatProgressModel",
          "state": {
            "_dom_classes": [],
            "_model_module": "@jupyter-widgets/controls",
            "_model_module_version": "1.5.0",
            "_model_name": "FloatProgressModel",
            "_view_count": null,
            "_view_module": "@jupyter-widgets/controls",
            "_view_module_version": "1.5.0",
            "_view_name": "ProgressView",
            "bar_style": "success",
            "description": "",
            "description_tooltip": null,
            "layout": "IPY_MODEL_4d0ec5d6643d4f5faa59a846a2f85d87",
            "max": 10000,
            "min": 0,
            "orientation": "horizontal",
            "style": "IPY_MODEL_22366b05f9c94a25bd1db74cf45d134f",
            "value": 10000
          }
        },
        "3e4324f8b4f3443ca60cf1bee4344178": {
          "model_module": "@jupyter-widgets/controls",
          "model_module_version": "1.5.0",
          "model_name": "DescriptionStyleModel",
          "state": {
            "_model_module": "@jupyter-widgets/controls",
            "_model_module_version": "1.5.0",
            "_model_name": "DescriptionStyleModel",
            "_view_count": null,
            "_view_module": "@jupyter-widgets/base",
            "_view_module_version": "1.2.0",
            "_view_name": "StyleView",
            "description_width": ""
          }
        },
        "4c80c7d101b04afcb47e2eabe7c8820a": {
          "model_module": "@jupyter-widgets/controls",
          "model_module_version": "1.5.0",
          "model_name": "ProgressStyleModel",
          "state": {
            "_model_module": "@jupyter-widgets/controls",
            "_model_module_version": "1.5.0",
            "_model_name": "ProgressStyleModel",
            "_view_count": null,
            "_view_module": "@jupyter-widgets/base",
            "_view_module_version": "1.2.0",
            "_view_name": "StyleView",
            "bar_color": null,
            "description_width": ""
          }
        },
        "4d0ec5d6643d4f5faa59a846a2f85d87": {
          "model_module": "@jupyter-widgets/base",
          "model_module_version": "1.2.0",
          "model_name": "LayoutModel",
          "state": {
            "_model_module": "@jupyter-widgets/base",
            "_model_module_version": "1.2.0",
            "_model_name": "LayoutModel",
            "_view_count": null,
            "_view_module": "@jupyter-widgets/base",
            "_view_module_version": "1.2.0",
            "_view_name": "LayoutView",
            "align_content": null,
            "align_items": null,
            "align_self": null,
            "border": null,
            "bottom": null,
            "display": null,
            "flex": null,
            "flex_flow": null,
            "grid_area": null,
            "grid_auto_columns": null,
            "grid_auto_flow": null,
            "grid_auto_rows": null,
            "grid_column": null,
            "grid_gap": null,
            "grid_row": null,
            "grid_template_areas": null,
            "grid_template_columns": null,
            "grid_template_rows": null,
            "height": null,
            "justify_content": null,
            "justify_items": null,
            "left": null,
            "margin": null,
            "max_height": null,
            "max_width": null,
            "min_height": null,
            "min_width": null,
            "object_fit": null,
            "object_position": null,
            "order": null,
            "overflow": null,
            "overflow_x": null,
            "overflow_y": null,
            "padding": null,
            "right": null,
            "top": null,
            "visibility": null,
            "width": null
          }
        },
        "4f104b6da5d4478eb8fc76a32b739103": {
          "model_module": "@jupyter-widgets/base",
          "model_module_version": "1.2.0",
          "model_name": "LayoutModel",
          "state": {
            "_model_module": "@jupyter-widgets/base",
            "_model_module_version": "1.2.0",
            "_model_name": "LayoutModel",
            "_view_count": null,
            "_view_module": "@jupyter-widgets/base",
            "_view_module_version": "1.2.0",
            "_view_name": "LayoutView",
            "align_content": null,
            "align_items": null,
            "align_self": null,
            "border": null,
            "bottom": null,
            "display": null,
            "flex": null,
            "flex_flow": null,
            "grid_area": null,
            "grid_auto_columns": null,
            "grid_auto_flow": null,
            "grid_auto_rows": null,
            "grid_column": null,
            "grid_gap": null,
            "grid_row": null,
            "grid_template_areas": null,
            "grid_template_columns": null,
            "grid_template_rows": null,
            "height": null,
            "justify_content": null,
            "justify_items": null,
            "left": null,
            "margin": null,
            "max_height": null,
            "max_width": null,
            "min_height": null,
            "min_width": null,
            "object_fit": null,
            "object_position": null,
            "order": null,
            "overflow": null,
            "overflow_x": null,
            "overflow_y": null,
            "padding": null,
            "right": null,
            "top": null,
            "visibility": null,
            "width": null
          }
        },
        "5ab43a6ed58a4824aa4632c34048704d": {
          "model_module": "@jupyter-widgets/controls",
          "model_module_version": "1.5.0",
          "model_name": "FloatProgressModel",
          "state": {
            "_dom_classes": [],
            "_model_module": "@jupyter-widgets/controls",
            "_model_module_version": "1.5.0",
            "_model_name": "FloatProgressModel",
            "_view_count": null,
            "_view_module": "@jupyter-widgets/controls",
            "_view_module_version": "1.5.0",
            "_view_name": "ProgressView",
            "bar_style": "success",
            "description": "",
            "description_tooltip": null,
            "layout": "IPY_MODEL_6d5beb83e31246b5a87d3ee1a106a80f",
            "max": 10000,
            "min": 0,
            "orientation": "horizontal",
            "style": "IPY_MODEL_4c80c7d101b04afcb47e2eabe7c8820a",
            "value": 10000
          }
        },
        "6d5beb83e31246b5a87d3ee1a106a80f": {
          "model_module": "@jupyter-widgets/base",
          "model_module_version": "1.2.0",
          "model_name": "LayoutModel",
          "state": {
            "_model_module": "@jupyter-widgets/base",
            "_model_module_version": "1.2.0",
            "_model_name": "LayoutModel",
            "_view_count": null,
            "_view_module": "@jupyter-widgets/base",
            "_view_module_version": "1.2.0",
            "_view_name": "LayoutView",
            "align_content": null,
            "align_items": null,
            "align_self": null,
            "border": null,
            "bottom": null,
            "display": null,
            "flex": null,
            "flex_flow": null,
            "grid_area": null,
            "grid_auto_columns": null,
            "grid_auto_flow": null,
            "grid_auto_rows": null,
            "grid_column": null,
            "grid_gap": null,
            "grid_row": null,
            "grid_template_areas": null,
            "grid_template_columns": null,
            "grid_template_rows": null,
            "height": null,
            "justify_content": null,
            "justify_items": null,
            "left": null,
            "margin": null,
            "max_height": null,
            "max_width": null,
            "min_height": null,
            "min_width": null,
            "object_fit": null,
            "object_position": null,
            "order": null,
            "overflow": null,
            "overflow_x": null,
            "overflow_y": null,
            "padding": null,
            "right": null,
            "top": null,
            "visibility": null,
            "width": null
          }
        },
        "7492f84809f44acdaee88b3dc98bf2bd": {
          "model_module": "@jupyter-widgets/controls",
          "model_module_version": "1.5.0",
          "model_name": "HTMLModel",
          "state": {
            "_dom_classes": [],
            "_model_module": "@jupyter-widgets/controls",
            "_model_module_version": "1.5.0",
            "_model_name": "HTMLModel",
            "_view_count": null,
            "_view_module": "@jupyter-widgets/controls",
            "_view_module_version": "1.5.0",
            "_view_name": "HTMLView",
            "description": "",
            "description_tooltip": null,
            "layout": "IPY_MODEL_f502c9f1d8f54750935aa9ca2a4fae22",
            "placeholder": "​",
            "style": "IPY_MODEL_3e4324f8b4f3443ca60cf1bee4344178",
            "value": ""
          }
        },
        "769a3b4df1834a8a9340d37b12febce0": {
          "model_module": "@jupyter-widgets/controls",
          "model_module_version": "1.5.0",
          "model_name": "HTMLModel",
          "state": {
            "_dom_classes": [],
            "_model_module": "@jupyter-widgets/controls",
            "_model_module_version": "1.5.0",
            "_model_name": "HTMLModel",
            "_view_count": null,
            "_view_module": "@jupyter-widgets/controls",
            "_view_module_version": "1.5.0",
            "_view_name": "HTMLView",
            "description": "",
            "description_tooltip": null,
            "layout": "IPY_MODEL_f46232978156451f9935983a7a6391f4",
            "placeholder": "​",
            "style": "IPY_MODEL_ee886488a7bf44cda5f6fd8fe6942a08",
            "value": " 10437/? [00:00&lt;00:00, 59066.49it/s]"
          }
        },
        "8fbca2e183fb40dbb67a6366ae3b413d": {
          "model_module": "@jupyter-widgets/controls",
          "model_module_version": "1.5.0",
          "model_name": "HTMLModel",
          "state": {
            "_dom_classes": [],
            "_model_module": "@jupyter-widgets/controls",
            "_model_module_version": "1.5.0",
            "_model_name": "HTMLModel",
            "_view_count": null,
            "_view_module": "@jupyter-widgets/controls",
            "_view_module_version": "1.5.0",
            "_view_name": "HTMLView",
            "description": "",
            "description_tooltip": null,
            "layout": "IPY_MODEL_d2617a1776a748ac8c71e00632319b72",
            "placeholder": "​",
            "style": "IPY_MODEL_ba36fea0a2844645befa1cfc3a6ef1be",
            "value": " 11261/? [00:00&lt;00:00, 34997.78it/s]"
          }
        },
        "984fdc1da0fb403b9e7aec588a9b7c7b": {
          "model_module": "@jupyter-widgets/base",
          "model_module_version": "1.2.0",
          "model_name": "LayoutModel",
          "state": {
            "_model_module": "@jupyter-widgets/base",
            "_model_module_version": "1.2.0",
            "_model_name": "LayoutModel",
            "_view_count": null,
            "_view_module": "@jupyter-widgets/base",
            "_view_module_version": "1.2.0",
            "_view_name": "LayoutView",
            "align_content": null,
            "align_items": null,
            "align_self": null,
            "border": null,
            "bottom": null,
            "display": null,
            "flex": null,
            "flex_flow": null,
            "grid_area": null,
            "grid_auto_columns": null,
            "grid_auto_flow": null,
            "grid_auto_rows": null,
            "grid_column": null,
            "grid_gap": null,
            "grid_row": null,
            "grid_template_areas": null,
            "grid_template_columns": null,
            "grid_template_rows": null,
            "height": null,
            "justify_content": null,
            "justify_items": null,
            "left": null,
            "margin": null,
            "max_height": null,
            "max_width": null,
            "min_height": null,
            "min_width": null,
            "object_fit": null,
            "object_position": null,
            "order": null,
            "overflow": null,
            "overflow_x": null,
            "overflow_y": null,
            "padding": null,
            "right": null,
            "top": null,
            "visibility": null,
            "width": null
          }
        },
        "b0fb980f20a0449dbce652777834eef2": {
          "model_module": "@jupyter-widgets/base",
          "model_module_version": "1.2.0",
          "model_name": "LayoutModel",
          "state": {
            "_model_module": "@jupyter-widgets/base",
            "_model_module_version": "1.2.0",
            "_model_name": "LayoutModel",
            "_view_count": null,
            "_view_module": "@jupyter-widgets/base",
            "_view_module_version": "1.2.0",
            "_view_name": "LayoutView",
            "align_content": null,
            "align_items": null,
            "align_self": null,
            "border": null,
            "bottom": null,
            "display": null,
            "flex": null,
            "flex_flow": null,
            "grid_area": null,
            "grid_auto_columns": null,
            "grid_auto_flow": null,
            "grid_auto_rows": null,
            "grid_column": null,
            "grid_gap": null,
            "grid_row": null,
            "grid_template_areas": null,
            "grid_template_columns": null,
            "grid_template_rows": null,
            "height": null,
            "justify_content": null,
            "justify_items": null,
            "left": null,
            "margin": null,
            "max_height": null,
            "max_width": null,
            "min_height": null,
            "min_width": null,
            "object_fit": null,
            "object_position": null,
            "order": null,
            "overflow": null,
            "overflow_x": null,
            "overflow_y": null,
            "padding": null,
            "right": null,
            "top": null,
            "visibility": null,
            "width": null
          }
        },
        "ba36fea0a2844645befa1cfc3a6ef1be": {
          "model_module": "@jupyter-widgets/controls",
          "model_module_version": "1.5.0",
          "model_name": "DescriptionStyleModel",
          "state": {
            "_model_module": "@jupyter-widgets/controls",
            "_model_module_version": "1.5.0",
            "_model_name": "DescriptionStyleModel",
            "_view_count": null,
            "_view_module": "@jupyter-widgets/base",
            "_view_module_version": "1.2.0",
            "_view_name": "StyleView",
            "description_width": ""
          }
        },
        "d2617a1776a748ac8c71e00632319b72": {
          "model_module": "@jupyter-widgets/base",
          "model_module_version": "1.2.0",
          "model_name": "LayoutModel",
          "state": {
            "_model_module": "@jupyter-widgets/base",
            "_model_module_version": "1.2.0",
            "_model_name": "LayoutModel",
            "_view_count": null,
            "_view_module": "@jupyter-widgets/base",
            "_view_module_version": "1.2.0",
            "_view_name": "LayoutView",
            "align_content": null,
            "align_items": null,
            "align_self": null,
            "border": null,
            "bottom": null,
            "display": null,
            "flex": null,
            "flex_flow": null,
            "grid_area": null,
            "grid_auto_columns": null,
            "grid_auto_flow": null,
            "grid_auto_rows": null,
            "grid_column": null,
            "grid_gap": null,
            "grid_row": null,
            "grid_template_areas": null,
            "grid_template_columns": null,
            "grid_template_rows": null,
            "height": null,
            "justify_content": null,
            "justify_items": null,
            "left": null,
            "margin": null,
            "max_height": null,
            "max_width": null,
            "min_height": null,
            "min_width": null,
            "object_fit": null,
            "object_position": null,
            "order": null,
            "overflow": null,
            "overflow_x": null,
            "overflow_y": null,
            "padding": null,
            "right": null,
            "top": null,
            "visibility": null,
            "width": null
          }
        },
        "d90d189daf4243269284d0e870db2add": {
          "model_module": "@jupyter-widgets/controls",
          "model_module_version": "1.5.0",
          "model_name": "HTMLModel",
          "state": {
            "_dom_classes": [],
            "_model_module": "@jupyter-widgets/controls",
            "_model_module_version": "1.5.0",
            "_model_name": "HTMLModel",
            "_view_count": null,
            "_view_module": "@jupyter-widgets/controls",
            "_view_module_version": "1.5.0",
            "_view_name": "HTMLView",
            "description": "",
            "description_tooltip": null,
            "layout": "IPY_MODEL_984fdc1da0fb403b9e7aec588a9b7c7b",
            "placeholder": "​",
            "style": "IPY_MODEL_f22eb8829c0e474b863a0a26efdbfdd8",
            "value": ""
          }
        },
        "ee886488a7bf44cda5f6fd8fe6942a08": {
          "model_module": "@jupyter-widgets/controls",
          "model_module_version": "1.5.0",
          "model_name": "DescriptionStyleModel",
          "state": {
            "_model_module": "@jupyter-widgets/controls",
            "_model_module_version": "1.5.0",
            "_model_name": "DescriptionStyleModel",
            "_view_count": null,
            "_view_module": "@jupyter-widgets/base",
            "_view_module_version": "1.2.0",
            "_view_name": "StyleView",
            "description_width": ""
          }
        },
        "f22eb8829c0e474b863a0a26efdbfdd8": {
          "model_module": "@jupyter-widgets/controls",
          "model_module_version": "1.5.0",
          "model_name": "DescriptionStyleModel",
          "state": {
            "_model_module": "@jupyter-widgets/controls",
            "_model_module_version": "1.5.0",
            "_model_name": "DescriptionStyleModel",
            "_view_count": null,
            "_view_module": "@jupyter-widgets/base",
            "_view_module_version": "1.2.0",
            "_view_name": "StyleView",
            "description_width": ""
          }
        },
        "f46232978156451f9935983a7a6391f4": {
          "model_module": "@jupyter-widgets/base",
          "model_module_version": "1.2.0",
          "model_name": "LayoutModel",
          "state": {
            "_model_module": "@jupyter-widgets/base",
            "_model_module_version": "1.2.0",
            "_model_name": "LayoutModel",
            "_view_count": null,
            "_view_module": "@jupyter-widgets/base",
            "_view_module_version": "1.2.0",
            "_view_name": "LayoutView",
            "align_content": null,
            "align_items": null,
            "align_self": null,
            "border": null,
            "bottom": null,
            "display": null,
            "flex": null,
            "flex_flow": null,
            "grid_area": null,
            "grid_auto_columns": null,
            "grid_auto_flow": null,
            "grid_auto_rows": null,
            "grid_column": null,
            "grid_gap": null,
            "grid_row": null,
            "grid_template_areas": null,
            "grid_template_columns": null,
            "grid_template_rows": null,
            "height": null,
            "justify_content": null,
            "justify_items": null,
            "left": null,
            "margin": null,
            "max_height": null,
            "max_width": null,
            "min_height": null,
            "min_width": null,
            "object_fit": null,
            "object_position": null,
            "order": null,
            "overflow": null,
            "overflow_x": null,
            "overflow_y": null,
            "padding": null,
            "right": null,
            "top": null,
            "visibility": null,
            "width": null
          }
        },
        "f502c9f1d8f54750935aa9ca2a4fae22": {
          "model_module": "@jupyter-widgets/base",
          "model_module_version": "1.2.0",
          "model_name": "LayoutModel",
          "state": {
            "_model_module": "@jupyter-widgets/base",
            "_model_module_version": "1.2.0",
            "_model_name": "LayoutModel",
            "_view_count": null,
            "_view_module": "@jupyter-widgets/base",
            "_view_module_version": "1.2.0",
            "_view_name": "LayoutView",
            "align_content": null,
            "align_items": null,
            "align_self": null,
            "border": null,
            "bottom": null,
            "display": null,
            "flex": null,
            "flex_flow": null,
            "grid_area": null,
            "grid_auto_columns": null,
            "grid_auto_flow": null,
            "grid_auto_rows": null,
            "grid_column": null,
            "grid_gap": null,
            "grid_row": null,
            "grid_template_areas": null,
            "grid_template_columns": null,
            "grid_template_rows": null,
            "height": null,
            "justify_content": null,
            "justify_items": null,
            "left": null,
            "margin": null,
            "max_height": null,
            "max_width": null,
            "min_height": null,
            "min_width": null,
            "object_fit": null,
            "object_position": null,
            "order": null,
            "overflow": null,
            "overflow_x": null,
            "overflow_y": null,
            "padding": null,
            "right": null,
            "top": null,
            "visibility": null,
            "width": null
          }
        }
      }
    }
  },
  "nbformat": 4,
  "nbformat_minor": 0
}
