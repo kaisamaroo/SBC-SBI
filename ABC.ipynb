{
 "cells": [
  {
   "cell_type": "code",
   "execution_count": null,
   "id": "15e9a8d3",
   "metadata": {},
   "outputs": [],
   "source": [
    "import os\n",
    "import tempfile\n",
    "\n",
    "import matplotlib.pyplot as plt\n",
    "import numpy as np\n",
    "\n",
    "import pyabc\n",
    "\n",
    "pyabc.settings.set_figure_params('pyabc')  # for beautified plots\n",
    "# ds\n"
   ]
  }
 ],
 "metadata": {
  "kernelspec": {
   "display_name": "abc_venv",
   "language": "python",
   "name": "python3"
  },
  "language_info": {
   "name": "python",
   "version": "3.9.13"
  }
 },
 "nbformat": 4,
 "nbformat_minor": 5
}
